{
 "cells": [
  {
   "cell_type": "code",
   "execution_count": null,
   "id": "fe0a2aac-78f3-4102-bbff-ce84ee7c5727",
   "metadata": {},
   "outputs": [],
   "source": []
  },
  {
   "cell_type": "code",
   "execution_count": 37,
   "id": "46c19b3f-60a6-4de4-9376-9540853e0a6a",
   "metadata": {},
   "outputs": [
    {
     "name": "stderr",
     "output_type": "stream",
     "text": [
      "[nltk_data] Downloading package stopwords to\n",
      "[nltk_data]     C:\\Users\\chiez\\AppData\\Roaming\\nltk_data...\n",
      "[nltk_data]   Package stopwords is already up-to-date!\n"
     ]
    },
    {
     "data": {
      "text/plain": [
       "True"
      ]
     },
     "execution_count": 37,
     "metadata": {},
     "output_type": "execute_result"
    }
   ],
   "source": [
    "import pandas as pd\n",
    "import numpy as np\n",
    "import seaborn as sns\n",
    "import matplotlib.pyplot as plt\n",
    "\n",
    "import nltk\n",
    "from nltk.corpus import stopwords\n",
    "import string\n",
    "\n",
    "#since this is the first time using stopwords let'S download it\n",
    "#nltk.download('stopwords')"
   ]
  },
  {
   "cell_type": "code",
   "execution_count": 38,
   "id": "52f23b62-0038-4f79-920a-64818e379297",
   "metadata": {},
   "outputs": [
    {
     "data": {
      "text/html": [
       "<div>\n",
       "<style scoped>\n",
       "    .dataframe tbody tr th:only-of-type {\n",
       "        vertical-align: middle;\n",
       "    }\n",
       "\n",
       "    .dataframe tbody tr th {\n",
       "        vertical-align: top;\n",
       "    }\n",
       "\n",
       "    .dataframe thead th {\n",
       "        text-align: right;\n",
       "    }\n",
       "</style>\n",
       "<table border=\"1\" class=\"dataframe\">\n",
       "  <thead>\n",
       "    <tr style=\"text-align: right;\">\n",
       "      <th></th>\n",
       "      <th>review</th>\n",
       "      <th>sentiment</th>\n",
       "    </tr>\n",
       "  </thead>\n",
       "  <tbody>\n",
       "    <tr>\n",
       "      <th>0</th>\n",
       "      <td>One of the other reviewers has mentioned that ...</td>\n",
       "      <td>positive</td>\n",
       "    </tr>\n",
       "    <tr>\n",
       "      <th>1</th>\n",
       "      <td>A wonderful little production. &lt;br /&gt;&lt;br /&gt;The...</td>\n",
       "      <td>positive</td>\n",
       "    </tr>\n",
       "    <tr>\n",
       "      <th>2</th>\n",
       "      <td>I thought this was a wonderful way to spend ti...</td>\n",
       "      <td>positive</td>\n",
       "    </tr>\n",
       "    <tr>\n",
       "      <th>3</th>\n",
       "      <td>Basically there's a family where a little boy ...</td>\n",
       "      <td>negative</td>\n",
       "    </tr>\n",
       "    <tr>\n",
       "      <th>4</th>\n",
       "      <td>Petter Mattei's \"Love in the Time of Money\" is...</td>\n",
       "      <td>positive</td>\n",
       "    </tr>\n",
       "    <tr>\n",
       "      <th>5</th>\n",
       "      <td>Probably my all-time favorite movie, a story o...</td>\n",
       "      <td>positive</td>\n",
       "    </tr>\n",
       "    <tr>\n",
       "      <th>6</th>\n",
       "      <td>I sure would like to see a resurrection of a u...</td>\n",
       "      <td>positive</td>\n",
       "    </tr>\n",
       "    <tr>\n",
       "      <th>7</th>\n",
       "      <td>This show was an amazing, fresh &amp; innovative i...</td>\n",
       "      <td>negative</td>\n",
       "    </tr>\n",
       "    <tr>\n",
       "      <th>8</th>\n",
       "      <td>Encouraged by the positive comments about this...</td>\n",
       "      <td>negative</td>\n",
       "    </tr>\n",
       "    <tr>\n",
       "      <th>9</th>\n",
       "      <td>If you like original gut wrenching laughter yo...</td>\n",
       "      <td>positive</td>\n",
       "    </tr>\n",
       "    <tr>\n",
       "      <th>10</th>\n",
       "      <td>Phil the Alien is one of those quirky films wh...</td>\n",
       "      <td>negative</td>\n",
       "    </tr>\n",
       "    <tr>\n",
       "      <th>11</th>\n",
       "      <td>I saw this movie when I was about 12 when it c...</td>\n",
       "      <td>negative</td>\n",
       "    </tr>\n",
       "    <tr>\n",
       "      <th>12</th>\n",
       "      <td>So im not a big fan of Boll's work but then ag...</td>\n",
       "      <td>negative</td>\n",
       "    </tr>\n",
       "    <tr>\n",
       "      <th>13</th>\n",
       "      <td>The cast played Shakespeare.&lt;br /&gt;&lt;br /&gt;Shakes...</td>\n",
       "      <td>negative</td>\n",
       "    </tr>\n",
       "    <tr>\n",
       "      <th>14</th>\n",
       "      <td>This a fantastic movie of three prisoners who ...</td>\n",
       "      <td>positive</td>\n",
       "    </tr>\n",
       "    <tr>\n",
       "      <th>15</th>\n",
       "      <td>Kind of drawn in by the erotic scenes, only to...</td>\n",
       "      <td>negative</td>\n",
       "    </tr>\n",
       "    <tr>\n",
       "      <th>16</th>\n",
       "      <td>Some films just simply should not be remade. T...</td>\n",
       "      <td>positive</td>\n",
       "    </tr>\n",
       "    <tr>\n",
       "      <th>17</th>\n",
       "      <td>This movie made it into one of my top 10 most ...</td>\n",
       "      <td>negative</td>\n",
       "    </tr>\n",
       "    <tr>\n",
       "      <th>18</th>\n",
       "      <td>I remember this film,it was the first film i h...</td>\n",
       "      <td>positive</td>\n",
       "    </tr>\n",
       "    <tr>\n",
       "      <th>19</th>\n",
       "      <td>An awful film! It must have been up against so...</td>\n",
       "      <td>negative</td>\n",
       "    </tr>\n",
       "  </tbody>\n",
       "</table>\n",
       "</div>"
      ],
      "text/plain": [
       "                                               review sentiment\n",
       "0   One of the other reviewers has mentioned that ...  positive\n",
       "1   A wonderful little production. <br /><br />The...  positive\n",
       "2   I thought this was a wonderful way to spend ti...  positive\n",
       "3   Basically there's a family where a little boy ...  negative\n",
       "4   Petter Mattei's \"Love in the Time of Money\" is...  positive\n",
       "5   Probably my all-time favorite movie, a story o...  positive\n",
       "6   I sure would like to see a resurrection of a u...  positive\n",
       "7   This show was an amazing, fresh & innovative i...  negative\n",
       "8   Encouraged by the positive comments about this...  negative\n",
       "9   If you like original gut wrenching laughter yo...  positive\n",
       "10  Phil the Alien is one of those quirky films wh...  negative\n",
       "11  I saw this movie when I was about 12 when it c...  negative\n",
       "12  So im not a big fan of Boll's work but then ag...  negative\n",
       "13  The cast played Shakespeare.<br /><br />Shakes...  negative\n",
       "14  This a fantastic movie of three prisoners who ...  positive\n",
       "15  Kind of drawn in by the erotic scenes, only to...  negative\n",
       "16  Some films just simply should not be remade. T...  positive\n",
       "17  This movie made it into one of my top 10 most ...  negative\n",
       "18  I remember this film,it was the first film i h...  positive\n",
       "19  An awful film! It must have been up against so...  negative"
      ]
     },
     "execution_count": 38,
     "metadata": {},
     "output_type": "execute_result"
    }
   ],
   "source": [
    "movie = pd.read_csv(\"movie.csv\")\n",
    "movie.head(20)"
   ]
  },
  {
   "cell_type": "code",
   "execution_count": 39,
   "id": "c1d0d409-3a12-4b8e-ac86-1762e3301f9b",
   "metadata": {},
   "outputs": [
    {
     "data": {
      "text/plain": [
       "(50000, 50000)"
      ]
     },
     "execution_count": 39,
     "metadata": {},
     "output_type": "execute_result"
    }
   ],
   "source": [
    "#check the length of the dataset and the size of the last dimension\n",
    "len(movie), movie.index.shape[-1]"
   ]
  },
  {
   "cell_type": "code",
   "execution_count": 40,
   "id": "6f2adb5c-c4d1-4d52-92f7-eb97536fa1c5",
   "metadata": {},
   "outputs": [
    {
     "name": "stdout",
     "output_type": "stream",
     "text": [
      "The shape of the dataset is:(50000, 2)\n"
     ]
    }
   ],
   "source": [
    "#check the shape of the dataset\n",
    "print(f'The shape of the dataset is:{movie.shape}')"
   ]
  },
  {
   "cell_type": "code",
   "execution_count": 41,
   "id": "38b9b407-fd9c-47d1-92d0-64c4a3fd0ff1",
   "metadata": {},
   "outputs": [
    {
     "name": "stdout",
     "output_type": "stream",
     "text": [
      "We have 25000 good reviews. \n",
      " The first ten are: \n",
      "                                               review sentiment\n",
      "0   One of the other reviewers has mentioned that ...  positive\n",
      "1   A wonderful little production. <br /><br />The...  positive\n",
      "2   I thought this was a wonderful way to spend ti...  positive\n",
      "4   Petter Mattei's \"Love in the Time of Money\" is...  positive\n",
      "5   Probably my all-time favorite movie, a story o...  positive\n",
      "6   I sure would like to see a resurrection of a u...  positive\n",
      "9   If you like original gut wrenching laughter yo...  positive\n",
      "14  This a fantastic movie of three prisoners who ...  positive\n",
      "16  Some films just simply should not be remade. T...  positive\n",
      "18  I remember this film,it was the first film i h...  positive\n",
      "\n",
      "\n",
      "We have 25000 bad reviews.\n",
      " The first 10 are:                                                review sentiment\n",
      "3   Basically there's a family where a little boy ...  negative\n",
      "7   This show was an amazing, fresh & innovative i...  negative\n",
      "8   Encouraged by the positive comments about this...  negative\n",
      "10  Phil the Alien is one of those quirky films wh...  negative\n",
      "11  I saw this movie when I was about 12 when it c...  negative\n",
      "12  So im not a big fan of Boll's work but then ag...  negative\n",
      "13  The cast played Shakespeare.<br /><br />Shakes...  negative\n",
      "15  Kind of drawn in by the erotic scenes, only to...  negative\n",
      "17  This movie made it into one of my top 10 most ...  negative\n",
      "19  An awful film! It must have been up against so...  negative\n"
     ]
    }
   ],
   "source": [
    "#Let's check the number of positive and negative reviews\n",
    "\n",
    "positive_review = movie[movie['sentiment'] == 'positive']\n",
    "print(f'We have {len(positive_review)} good reviews. \\n The first ten are: \\n{positive_review[:10]}\\n\\n')\n",
    "negative_review = movie[movie['sentiment'] == 'negative']\n",
    "print(f'We have {len(negative_review)} bad reviews.\\n The first 10 are: {negative_review[:10]}')\n",
    "\n"
   ]
  },
  {
   "cell_type": "code",
   "execution_count": 42,
   "id": "b440d833-e771-4697-8641-2d2efd57885a",
   "metadata": {},
   "outputs": [
    {
     "name": "stderr",
     "output_type": "stream",
     "text": [
      "C:\\Users\\chiez\\AppData\\Local\\Programs\\Python\\Python310\\lib\\site-packages\\seaborn\\_base.py:949: FutureWarning: When grouping with a length-1 list-like, you will need to pass a length-1 tuple to get_group in a future version of pandas. Pass `(name,)` instead of `name` to silence this warning.\n",
      "  data_subset = grouped_data.get_group(pd_key)\n",
      "C:\\Users\\chiez\\AppData\\Local\\Programs\\Python\\Python310\\lib\\site-packages\\seaborn\\_base.py:949: FutureWarning: When grouping with a length-1 list-like, you will need to pass a length-1 tuple to get_group in a future version of pandas. Pass `(name,)` instead of `name` to silence this warning.\n",
      "  data_subset = grouped_data.get_group(pd_key)\n"
     ]
    },
    {
     "data": {
      "image/png": "[encoded data removed]",
      "text/plain": [
       "<Figure size 600x600 with 1 Axes>"
      ]
     },
     "metadata": {},
     "output_type": "display_data"
    }
   ],
   "source": [
    "#Visualizing the number of negative and positive review using seaborn\n",
    "\n",
    "plt.figure(figsize=(6,6))\n",
    "unique_categories = set(movie['sentiment'])\n",
    "\n",
    "palette = {'positive':'#33FF57', 'negative':'#FF0000'}\n",
    "sns.countplot(x=\"sentiment\", hue=\"sentiment\", data=movie, palette= palette, dodge=True)\n",
    "\n",
    "plt.legend(unique_categories)\n",
    "plt.title('How Many Postive and Negative Reviews Do We Have ')\n",
    "plt.xlabel('Review Types')\n",
    "plt.ylabel('Review Count')\n",
    "plt.show()\n",
    "\n",
    "\n"
   ]
  },
  {
   "cell_type": "code",
   "execution_count": 43,
   "id": "64c1b9d2-e677-4437-b437-37480110f429",
   "metadata": {},
   "outputs": [],
   "source": [
    "positive_review_word = [review for review in positive_review['review']]\n",
    "negative_review_word = [review for review in negative_review['review']]\n",
    "\n",
    "#positive_review_words"
   ]
  },
  {
   "cell_type": "code",
   "execution_count": 44,
   "id": "f05485d1-f569-4825-bc23-b7fbdcfe2f89",
   "metadata": {},
   "outputs": [
    {
     "data": {
      "image/png": "[encoded data removed]",
      "text/plain": [
       "<Figure size 800x500 with 2 Axes>"
      ]
     },
     "metadata": {},
     "output_type": "display_data"
    }
   ],
   "source": [
    "# Tokenize sentences and count words\n",
    "positive_review_words = [len(review.split()) for review in positive_review['review']]\n",
    "negative_review_words = [len(review.split()) for review in negative_review['review']]\n",
    "\n",
    "# print the two plots sidebyside using subplot\n",
    "fig, axs = plt.subplots(1, 2, figsize=(8, 5))\n",
    "\n",
    "sns.histplot(positive_review_words, kde=True, stat='frequency', kde_kws=dict(cut=3), color='blue', alpha=.4, edgecolor=(1, 1, 1, .4), ax=axs[0])\n",
    "axs[0].set_title(\"Positive review\")\n",
    "\n",
    "sns.histplot(negative_review_words, kde=True, stat='frequency', kde_kws=dict(cut=3), color='red', alpha=.4, edgecolor=(1, 1, 1, .4),ax=axs[1])\n",
    "axs[1].set_title(\"Negative review\")\n",
    "\n",
    "plt.tight_layout()\n",
    "plt.show()\n",
    "\n"
   ]
  },
  {
   "cell_type": "code",
   "execution_count": 58,
   "id": "f5fb260f-db5d-444d-8707-213e36a399c0",
   "metadata": {},
   "outputs": [],
   "source": [
    "#define a code for counting punctuation and stopwords. For later purpose we can reuse it\n",
    "\n",
    "def count_punctuation(text):\n",
    "    punctuations = string.punctuation\n",
    "    punctuation_count = sum(1 for char in str(text).split() if char in punctuations)\n",
    "    return punctuation_count\n",
    "\n",
    "\n",
    "def count_stopwords(text):\n",
    "    stop_words = set(stopwords.words('english'))\n",
    "    words = str(text).split()\n",
    "    stopword_count = sum(1 for word in words if word.lower() in stop_words)\n",
    "    return stopword_count\n"
   ]
  },
  {
   "cell_type": "code",
   "execution_count": 60,
   "id": "3d50f876-cf8a-4ef6-a0ab-697e88f994e2",
   "metadata": {},
   "outputs": [
    {
     "name": "stdout",
     "output_type": "stream",
     "text": [
      "[0, 0]\n"
     ]
    },
    {
     "data": {
      "text/plain": [
       "[0, 0]"
      ]
     },
     "execution_count": 60,
     "metadata": {},
     "output_type": "execute_result"
    }
   ],
   "source": [
    "positive_punctuation_count = [count_punctuation(review) for review in positive_review]\n",
    "negative_punctuation_count = [count_punctuation(review) for review in negative_review]\n",
    "\n",
    "positive_stopwords_count = [count_stopwords(review) for review in positive_review]\n",
    "negative_stopwords_count = [count_stopwords(review) for review in negative_review]\n",
    "\n",
    "positive_punctuation_count\n",
    "\n",
    "negative_stopwords_count\n",
    "\n",
    "#why is the code printint 0?"
   ]
  },
  {
   "cell_type": "code",
   "execution_count": null,
   "id": "3032b7fc-b49e-458a-b7d6-4e44a7d6ae65",
   "metadata": {},
   "outputs": [],
   "source": []
  },
  {
   "cell_type": "code",
   "execution_count": null,
   "id": "8ae58b25-b671-428b-a943-2d5cfbeaa3bb",
   "metadata": {},
   "outputs": [],
   "source": []
  }
 ],
 "metadata": {
  "kernelspec": {
   "display_name": "Python 3 (ipykernel)",
   "language": "python",
   "name": "python3"
  },
  "language_info": {
   "codemirror_mode": {
    "name": "ipython",
    "version": 3
   },
   "file_extension": ".py",
   "mimetype": "text/x-python",
   "name": "python",
   "nbconvert_exporter": "python",
   "pygments_lexer": "ipython3",
   "version": "3.10.7"
  }
 },
 "nbformat": 4,
 "nbformat_minor": 5
}
